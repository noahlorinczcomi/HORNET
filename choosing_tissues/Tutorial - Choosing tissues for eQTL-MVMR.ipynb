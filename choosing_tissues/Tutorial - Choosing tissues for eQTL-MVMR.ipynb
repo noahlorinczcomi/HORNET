{
 "cells": [
  {
   "cell_type": "markdown",
   "metadata": {},
   "source": [
    "# Summary\n",
    "This brief tutorial shows you how to use the `tissue_chooser.py` tool to identify tissues that have the strongest eQTL signals for a set of your candidate genes. \n",
    "\n",
    "This tool uses GTEx v8 summary data (from https://https://gtexportal.org/) to estimate heritability scores for candidate genes across all available tissues. Tissues with the largest heritability scores for a gene are prioritized by the `tissue_chooser.py` tool. Tissues in which multiple candidate genes have relatively large heritability scores are prioritized over those in which a less candidate genes have the same magnitude of heritability scores. \n",
    "\n",
    "First, clone the HORNET github repository"
   ]
  },
  {
   "cell_type": "code",
   "execution_count": null,
   "metadata": {},
   "outputs": [],
   "source": [
    "git clone https://github.com/noahlorinczcomi/HORNET.git\n",
    "cd HORNET/choosing_tissues"
   ]
  },
  {
   "cell_type": "markdown",
   "metadata": {},
   "source": [
    "Note that Python $\\ge$v3.7 must be accessible from your command line for this tool to work in the following way.\n",
    "\n",
    "# Arguments\n",
    "The `tissue_chooser.py` tool takes 5 arguments:\n",
    "1. `--candidateGenes`, (Required) This can either be a comma-separated list of gene IDs or the path to a file (with extension) that contains one gene ID per row and no header.\n",
    "2. `--nTopTissues`, (Required) The number of top tissues to display. The default is 10. Note, if you put \"yes\" for `--saveAsFile`, all results will be written out, not just these that are printed.\n",
    "3. `--saveAsFile`, (Optional) If you would like the results to be saved to a file, put \"true\" or \"yes\", otherwise ignore this flag or put \"false\" or \"no\"\n",
    "4. `--outFilename`, (Optional) If you put \"true\" or \"yes\" for the `--saveAsFile` flag, you can specify the filename (without extension) of the output file here. The default is `tissue_results.txt`\n",
    "5. `--printResults`, (Optional) Please give this flag \"no\" if you do not want the results to be printed to the console. Note that if you give this a \"no\", you will want to make sure the results are saved in a file, otherwise you will never see the results. The default is to print results to the console.\n",
    "\n",
    "Genes given to the `--candidateGenes` flag can be formatted as gene names (e.g., *APOE*), Ensembl IDs (e.g., ENSG00000130203), or Ensembl IDs with version control (e.g., ENSG00000130203.9). \n",
    "\n",
    "# Usage examples\n",
    "Each of the below commands will print the results you want to the console."
   ]
  },
  {
   "cell_type": "code",
   "execution_count": null,
   "metadata": {},
   "outputs": [],
   "source": [
    "python tissue_chooser.py --candidateGenes apoe,cetp,PCSK9\n",
    "python tissue_chooser.py --candidateGenes ENSG00000130203,ENSG00000087237,ENSG00000169174\n",
    "python tissue_chooser.py --candidateGenes ENSG00000130203.9,ENSG00000087237.10,ENSG00000169174.10"
   ]
  },
  {
   "cell_type": "markdown",
   "metadata": {},
   "source": [
    "You can alternatively upload files containg either gene names, Ensembl IDs, or Ensembl IDs with version control numbers. If those are saved in the file `genes.txt` with each row having just one gene identifier and no column header, you can do this:"
   ]
  },
  {
   "cell_type": "code",
   "execution_count": null,
   "metadata": {},
   "outputs": [],
   "source": [
    "python tissue_chooser.py --candidateGenes /dir/to/candidate/genes.txt"
   ]
  },
  {
   "cell_type": "markdown",
   "metadata": {},
   "source": [
    "The remaining arguments that `tissue_chooser.py` are self-explanatory and simple to use."
   ]
  }
 ],
 "metadata": {
  "kernelspec": {
   "display_name": "Python 3",
   "language": "python",
   "name": "python3"
  },
  "language_info": {
   "codemirror_mode": {
    "name": "ipython",
    "version": 3
   },
   "file_extension": ".py",
   "mimetype": "text/x-python",
   "name": "python",
   "nbconvert_exporter": "python",
   "pygments_lexer": "ipython3",
   "version": "3.7.6"
  }
 },
 "nbformat": 4,
 "nbformat_minor": 4
}
